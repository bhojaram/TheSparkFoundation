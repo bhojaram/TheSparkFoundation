{
  "cells": [
    {
      "cell_type": "markdown",
      "metadata": {
        "id": "view-in-github",
        "colab_type": "text"
      },
      "source": [
        "<a href=\"https://colab.research.google.com/github/bhojaram/TheSparkFoundation/blob/main/Supervised_ML(Task_1).ipynb\" target=\"_parent\"><img src=\"https://colab.research.google.com/assets/colab-badge.svg\" alt=\"Open In Colab\"/></a>"
      ]
    },
    {
      "cell_type": "markdown",
      "id": "0cc45bca-badb-4824-ba79-51473ec3d239",
      "metadata": {
        "id": "0cc45bca-badb-4824-ba79-51473ec3d239"
      },
      "source": [
        "# GRIP - The Spark Foundation"
      ]
    },
    {
      "cell_type": "markdown",
      "id": "ff336dd3-2a95-483c-b3ba-0adb945cfe61",
      "metadata": {
        "id": "ff336dd3-2a95-483c-b3ba-0adb945cfe61"
      },
      "source": [
        "# Data Science & Business Analytics Intern\n",
        "# Author: Bhojaram SA\n",
        "# Task 1: Prediction using Supervised ML"
      ]
    },
    {
      "cell_type": "markdown",
      "id": "f60f388d-d289-46d3-926e-51fada9691b0",
      "metadata": {
        "id": "f60f388d-d289-46d3-926e-51fada9691b0"
      },
      "source": [
        "#importing necessary libraries\n",
        "\n",
        "import numpy as np\n",
        "import pandas as pd\n",
        "import matplotlib.pyplot as plt\n",
        "import seaborn as sns"
      ]
    },
    {
      "cell_type": "code",
      "execution_count": null,
      "id": "2c389514-9ba7-4b95-9711-bf1a49f19018",
      "metadata": {
        "id": "2c389514-9ba7-4b95-9711-bf1a49f19018",
        "outputId": "2bc9d5a3-5643-48ba-f94c-3ec5a35ce2c2"
      },
      "outputs": [
        {
          "data": {
            "text/html": [
              "<div>\n",
              "<style scoped>\n",
              "    .dataframe tbody tr th:only-of-type {\n",
              "        vertical-align: middle;\n",
              "    }\n",
              "\n",
              "    .dataframe tbody tr th {\n",
              "        vertical-align: top;\n",
              "    }\n",
              "\n",
              "    .dataframe thead th {\n",
              "        text-align: right;\n",
              "    }\n",
              "</style>\n",
              "<table border=\"1\" class=\"dataframe\">\n",
              "  <thead>\n",
              "    <tr style=\"text-align: right;\">\n",
              "      <th></th>\n",
              "      <th>Hours</th>\n",
              "      <th>Scores</th>\n",
              "    </tr>\n",
              "  </thead>\n",
              "  <tbody>\n",
              "    <tr>\n",
              "      <th>0</th>\n",
              "      <td>2.5</td>\n",
              "      <td>21</td>\n",
              "    </tr>\n",
              "    <tr>\n",
              "      <th>1</th>\n",
              "      <td>5.1</td>\n",
              "      <td>47</td>\n",
              "    </tr>\n",
              "    <tr>\n",
              "      <th>2</th>\n",
              "      <td>3.2</td>\n",
              "      <td>27</td>\n",
              "    </tr>\n",
              "    <tr>\n",
              "      <th>3</th>\n",
              "      <td>8.5</td>\n",
              "      <td>75</td>\n",
              "    </tr>\n",
              "    <tr>\n",
              "      <th>4</th>\n",
              "      <td>3.5</td>\n",
              "      <td>30</td>\n",
              "    </tr>\n",
              "    <tr>\n",
              "      <th>5</th>\n",
              "      <td>1.5</td>\n",
              "      <td>20</td>\n",
              "    </tr>\n",
              "    <tr>\n",
              "      <th>6</th>\n",
              "      <td>9.2</td>\n",
              "      <td>88</td>\n",
              "    </tr>\n",
              "    <tr>\n",
              "      <th>7</th>\n",
              "      <td>5.5</td>\n",
              "      <td>60</td>\n",
              "    </tr>\n",
              "    <tr>\n",
              "      <th>8</th>\n",
              "      <td>8.3</td>\n",
              "      <td>81</td>\n",
              "    </tr>\n",
              "    <tr>\n",
              "      <th>9</th>\n",
              "      <td>2.7</td>\n",
              "      <td>25</td>\n",
              "    </tr>\n",
              "    <tr>\n",
              "      <th>10</th>\n",
              "      <td>7.7</td>\n",
              "      <td>85</td>\n",
              "    </tr>\n",
              "    <tr>\n",
              "      <th>11</th>\n",
              "      <td>5.9</td>\n",
              "      <td>62</td>\n",
              "    </tr>\n",
              "    <tr>\n",
              "      <th>12</th>\n",
              "      <td>4.5</td>\n",
              "      <td>41</td>\n",
              "    </tr>\n",
              "    <tr>\n",
              "      <th>13</th>\n",
              "      <td>3.3</td>\n",
              "      <td>42</td>\n",
              "    </tr>\n",
              "    <tr>\n",
              "      <th>14</th>\n",
              "      <td>1.1</td>\n",
              "      <td>17</td>\n",
              "    </tr>\n",
              "    <tr>\n",
              "      <th>15</th>\n",
              "      <td>8.9</td>\n",
              "      <td>95</td>\n",
              "    </tr>\n",
              "    <tr>\n",
              "      <th>16</th>\n",
              "      <td>2.5</td>\n",
              "      <td>30</td>\n",
              "    </tr>\n",
              "    <tr>\n",
              "      <th>17</th>\n",
              "      <td>1.9</td>\n",
              "      <td>24</td>\n",
              "    </tr>\n",
              "    <tr>\n",
              "      <th>18</th>\n",
              "      <td>6.1</td>\n",
              "      <td>67</td>\n",
              "    </tr>\n",
              "    <tr>\n",
              "      <th>19</th>\n",
              "      <td>7.4</td>\n",
              "      <td>69</td>\n",
              "    </tr>\n",
              "    <tr>\n",
              "      <th>20</th>\n",
              "      <td>2.7</td>\n",
              "      <td>30</td>\n",
              "    </tr>\n",
              "    <tr>\n",
              "      <th>21</th>\n",
              "      <td>4.8</td>\n",
              "      <td>54</td>\n",
              "    </tr>\n",
              "    <tr>\n",
              "      <th>22</th>\n",
              "      <td>3.8</td>\n",
              "      <td>35</td>\n",
              "    </tr>\n",
              "    <tr>\n",
              "      <th>23</th>\n",
              "      <td>6.9</td>\n",
              "      <td>76</td>\n",
              "    </tr>\n",
              "    <tr>\n",
              "      <th>24</th>\n",
              "      <td>7.8</td>\n",
              "      <td>86</td>\n",
              "    </tr>\n",
              "  </tbody>\n",
              "</table>\n",
              "</div>"
            ],
            "text/plain": [
              "    Hours  Scores\n",
              "0     2.5      21\n",
              "1     5.1      47\n",
              "2     3.2      27\n",
              "3     8.5      75\n",
              "4     3.5      30\n",
              "5     1.5      20\n",
              "6     9.2      88\n",
              "7     5.5      60\n",
              "8     8.3      81\n",
              "9     2.7      25\n",
              "10    7.7      85\n",
              "11    5.9      62\n",
              "12    4.5      41\n",
              "13    3.3      42\n",
              "14    1.1      17\n",
              "15    8.9      95\n",
              "16    2.5      30\n",
              "17    1.9      24\n",
              "18    6.1      67\n",
              "19    7.4      69\n",
              "20    2.7      30\n",
              "21    4.8      54\n",
              "22    3.8      35\n",
              "23    6.9      76\n",
              "24    7.8      86"
            ]
          },
          "execution_count": 2,
          "metadata": {},
          "output_type": "execute_result"
        }
      ],
      "source": [
        "#reading the dataset and creating a data frame\n",
        "\n",
        "df=pd.read_csv(\"D:\\\\Internship\\\\TheSparkFoundation\\\\dataset.csv\")\n",
        "df"
      ]
    },
    {
      "cell_type": "markdown",
      "id": "0a711f55-11ab-4828-be99-4e4d88dad4ab",
      "metadata": {
        "id": "0a711f55-11ab-4828-be99-4e4d88dad4ab"
      },
      "source": [
        "# Exploratory Data Analysis (EDA)"
      ]
    },
    {
      "cell_type": "code",
      "execution_count": null,
      "id": "8b8e39b0-234a-4dbb-a3c6-bce4aa14cc0b",
      "metadata": {
        "id": "8b8e39b0-234a-4dbb-a3c6-bce4aa14cc0b",
        "outputId": "efae2f98-a6e7-4734-f1cd-4adf2954b8ee"
      },
      "outputs": [
        {
          "data": {
            "text/plain": [
              "(25, 2)"
            ]
          },
          "execution_count": 4,
          "metadata": {},
          "output_type": "execute_result"
        }
      ],
      "source": [
        "df.shape"
      ]
    },
    {
      "cell_type": "code",
      "execution_count": null,
      "id": "583cb4ed-9a2b-40c2-a5ac-87e0cc734f60",
      "metadata": {
        "id": "583cb4ed-9a2b-40c2-a5ac-87e0cc734f60",
        "outputId": "20ba6f09-235c-4f28-aa70-5cf56c683cfb"
      },
      "outputs": [
        {
          "data": {
            "text/plain": [
              "Index(['Hours', 'Scores'], dtype='object')"
            ]
          },
          "execution_count": 7,
          "metadata": {},
          "output_type": "execute_result"
        }
      ],
      "source": [
        "df.columns"
      ]
    },
    {
      "cell_type": "code",
      "execution_count": null,
      "id": "120d78d3-3a51-41ff-b74f-7092e12b7d50",
      "metadata": {
        "id": "120d78d3-3a51-41ff-b74f-7092e12b7d50",
        "outputId": "c0e1aab0-8df1-4638-96c6-23cc5add6284"
      },
      "outputs": [
        {
          "data": {
            "text/html": [
              "<div>\n",
              "<style scoped>\n",
              "    .dataframe tbody tr th:only-of-type {\n",
              "        vertical-align: middle;\n",
              "    }\n",
              "\n",
              "    .dataframe tbody tr th {\n",
              "        vertical-align: top;\n",
              "    }\n",
              "\n",
              "    .dataframe thead th {\n",
              "        text-align: right;\n",
              "    }\n",
              "</style>\n",
              "<table border=\"1\" class=\"dataframe\">\n",
              "  <thead>\n",
              "    <tr style=\"text-align: right;\">\n",
              "      <th></th>\n",
              "      <th>Hours</th>\n",
              "      <th>Scores</th>\n",
              "    </tr>\n",
              "  </thead>\n",
              "  <tbody>\n",
              "    <tr>\n",
              "      <th>count</th>\n",
              "      <td>25.000000</td>\n",
              "      <td>25.000000</td>\n",
              "    </tr>\n",
              "    <tr>\n",
              "      <th>mean</th>\n",
              "      <td>5.012000</td>\n",
              "      <td>51.480000</td>\n",
              "    </tr>\n",
              "    <tr>\n",
              "      <th>std</th>\n",
              "      <td>2.525094</td>\n",
              "      <td>25.286887</td>\n",
              "    </tr>\n",
              "    <tr>\n",
              "      <th>min</th>\n",
              "      <td>1.100000</td>\n",
              "      <td>17.000000</td>\n",
              "    </tr>\n",
              "    <tr>\n",
              "      <th>25%</th>\n",
              "      <td>2.700000</td>\n",
              "      <td>30.000000</td>\n",
              "    </tr>\n",
              "    <tr>\n",
              "      <th>50%</th>\n",
              "      <td>4.800000</td>\n",
              "      <td>47.000000</td>\n",
              "    </tr>\n",
              "    <tr>\n",
              "      <th>75%</th>\n",
              "      <td>7.400000</td>\n",
              "      <td>75.000000</td>\n",
              "    </tr>\n",
              "    <tr>\n",
              "      <th>max</th>\n",
              "      <td>9.200000</td>\n",
              "      <td>95.000000</td>\n",
              "    </tr>\n",
              "  </tbody>\n",
              "</table>\n",
              "</div>"
            ],
            "text/plain": [
              "           Hours     Scores\n",
              "count  25.000000  25.000000\n",
              "mean    5.012000  51.480000\n",
              "std     2.525094  25.286887\n",
              "min     1.100000  17.000000\n",
              "25%     2.700000  30.000000\n",
              "50%     4.800000  47.000000\n",
              "75%     7.400000  75.000000\n",
              "max     9.200000  95.000000"
            ]
          },
          "execution_count": 8,
          "metadata": {},
          "output_type": "execute_result"
        }
      ],
      "source": [
        "df.describe()"
      ]
    },
    {
      "cell_type": "code",
      "execution_count": null,
      "id": "815a7849-4c0d-46e4-b7f3-85f1ece153ef",
      "metadata": {
        "id": "815a7849-4c0d-46e4-b7f3-85f1ece153ef",
        "outputId": "999a96f9-0c62-4811-a7f0-83d843e0208d"
      },
      "outputs": [
        {
          "data": {
            "text/plain": [
              "Hours     0\n",
              "Scores    0\n",
              "dtype: int64"
            ]
          },
          "execution_count": 11,
          "metadata": {},
          "output_type": "execute_result"
        }
      ],
      "source": [
        "df.isnull().sum()"
      ]
    },
    {
      "cell_type": "code",
      "execution_count": null,
      "id": "809af90b-b96b-4763-bc9d-7f6dd07db68b",
      "metadata": {
        "id": "809af90b-b96b-4763-bc9d-7f6dd07db68b",
        "outputId": "60912be4-f3cf-433c-a8a3-82350bd4ec6e"
      },
      "outputs": [
        {
          "data": {
            "image/png": "[encoded data removed]",
            "text/plain": [
              "<Figure size 640x480 with 1 Axes>"
            ]
          },
          "metadata": {},
          "output_type": "display_data"
        }
      ],
      "source": [
        "plt.scatter(df['Hours'], df['Scores'], color='Blue',marker='o')\n",
        "plt.title(\"Hours Vs Scores\")\n",
        "plt.xlabel(\"Hours of studied\")\n",
        "plt.ylabel(\"Percentage Scored\")\n",
        "plt.show()"
      ]
    },
    {
      "cell_type": "markdown",
      "id": "f232eec0-f1c5-4035-afb1-090aaff034f5",
      "metadata": {
        "id": "f232eec0-f1c5-4035-afb1-090aaff034f5"
      },
      "source": [
        "**From the graph above, we can see that there is a positive linear relationship between the number of hours studied and the scores obtained. We can say that with the increase of Hours studied(x), there is an increase in the scores obtained(y).**"
      ]
    },
    {
      "cell_type": "markdown",
      "id": "411bdfbd-8526-4799-92d6-e4cefbd39df4",
      "metadata": {
        "id": "411bdfbd-8526-4799-92d6-e4cefbd39df4"
      },
      "source": [
        "# correlation matrix & Heatmap"
      ]
    },
    {
      "cell_type": "code",
      "execution_count": null,
      "id": "966e1bf3-1ac0-4396-9e35-d6903c715979",
      "metadata": {
        "id": "966e1bf3-1ac0-4396-9e35-d6903c715979",
        "outputId": "29334b3b-57f5-4fe6-c643-2e46781a40a0"
      },
      "outputs": [
        {
          "name": "stdout",
          "output_type": "stream",
          "text": [
            "Correlation Matrix:\n",
            "           Hours    Scores\n",
            "Hours   1.000000  0.976191\n",
            "Scores  0.976191  1.000000\n"
          ]
        },
        {
          "data": {
            "image/png": "[encoded data removed]",
            "text/plain": [
              "<Figure size 800x600 with 2 Axes>"
            ]
          },
          "metadata": {},
          "output_type": "display_data"
        }
      ],
      "source": [
        "correlation_matrix = df.corr()\n",
        "\n",
        "# Print the correlation matrix\n",
        "print(\"Correlation Matrix:\")\n",
        "print(correlation_matrix)\n",
        "\n",
        "# Plot the correlation matrix\n",
        "plt.figure(figsize=(8, 6))\n",
        "sns.heatmap(correlation_matrix, annot=True, cmap='coolwarm', cbar=True, square=True)\n",
        "\n",
        "# Set labels\n",
        "plt.title('Correlation Matrix of Hours and Scores')\n",
        "plt.xlabel('Variables')\n",
        "plt.ylabel('Variables')\n",
        "\n",
        "# Show the plot\n",
        "plt.show()\n",
        "\n",
        "\n",
        "\n",
        "\n",
        "\n",
        "\n"
      ]
    },
    {
      "cell_type": "markdown",
      "id": "231db889-b6a2-4d11-a4cc-55f3afc3831d",
      "metadata": {
        "id": "231db889-b6a2-4d11-a4cc-55f3afc3831d"
      },
      "source": [
        "# Dividing the dataset into dependent(y) and independent(X) features"
      ]
    },
    {
      "cell_type": "code",
      "execution_count": null,
      "id": "da1ab927-5ca7-411f-9e3d-96db685147a6",
      "metadata": {
        "id": "da1ab927-5ca7-411f-9e3d-96db685147a6"
      },
      "outputs": [],
      "source": [
        "#X is independent feature and y is dependent feature\n",
        "\n",
        "X = df.iloc[:, :-1].values\n",
        "y = df.iloc[:, -1].values"
      ]
    },
    {
      "cell_type": "code",
      "execution_count": null,
      "id": "4ad908ae-4150-47cd-a8f4-ef793a502933",
      "metadata": {
        "id": "4ad908ae-4150-47cd-a8f4-ef793a502933",
        "outputId": "23cf2af9-1040-4b9c-9b3a-4f277d50996f"
      },
      "outputs": [
        {
          "data": {
            "text/plain": [
              "array([21, 47, 27, 75, 30, 20, 88, 60, 81, 25, 85, 62, 41, 42, 17, 95, 30,\n",
              "       24, 67, 69, 30, 54, 35, 76, 86], dtype=int64)"
            ]
          },
          "execution_count": 21,
          "metadata": {},
          "output_type": "execute_result"
        }
      ],
      "source": [
        "y"
      ]
    },
    {
      "cell_type": "markdown",
      "id": "db5f1d0d-1d8d-4da4-8643-92d27028e191",
      "metadata": {
        "id": "db5f1d0d-1d8d-4da4-8643-92d27028e191"
      },
      "source": [
        "# Splitting the dataset into training and test set"
      ]
    },
    {
      "cell_type": "code",
      "execution_count": null,
      "id": "1cf56892-46e1-4c35-a953-ff8e751947cd",
      "metadata": {
        "id": "1cf56892-46e1-4c35-a953-ff8e751947cd"
      },
      "outputs": [],
      "source": [
        "#Split the data into training and testing sets\n",
        "\n",
        "from sklearn.model_selection import train_test_split\n",
        "X_train, X_test, y_train, y_test = train_test_split(X, y, test_size = 0.3, random_state = 0)"
      ]
    },
    {
      "cell_type": "markdown",
      "id": "05b02d5a-c130-4672-b8b0-99fef8c28f30",
      "metadata": {
        "id": "05b02d5a-c130-4672-b8b0-99fef8c28f30"
      },
      "source": [
        "# Scaling the dataset"
      ]
    },
    {
      "cell_type": "code",
      "execution_count": null,
      "id": "883f16e2-a188-45a5-9ef9-ec7ad7b256bc",
      "metadata": {
        "id": "883f16e2-a188-45a5-9ef9-ec7ad7b256bc"
      },
      "outputs": [],
      "source": [
        "#Initialize the StandardScaler\n",
        "\n",
        "from sklearn.preprocessing import StandardScaler\n",
        "scaler = StandardScaler()\n",
        "\n",
        "# Fit the scaler on the training data\n",
        "scaler.fit(X_train)\n",
        "\n",
        "# Transform the training and testing data\n",
        "X_train_scaled = scaler.transform(X_train)\n",
        "X_test_scaled = scaler.transform(X_test)"
      ]
    },
    {
      "cell_type": "markdown",
      "id": "bb462ae2-fe26-4d7d-8037-bad080f35529",
      "metadata": {
        "id": "bb462ae2-fe26-4d7d-8037-bad080f35529"
      },
      "source": [
        "# Appling Linear Regression Model to dataset"
      ]
    },
    {
      "cell_type": "code",
      "execution_count": null,
      "id": "d932a97c-0ea1-45f3-9948-f01cff170885",
      "metadata": {
        "id": "d932a97c-0ea1-45f3-9948-f01cff170885",
        "outputId": "cd68a81f-3486-459e-ca4f-baac50eed347"
      },
      "outputs": [
        {
          "data": {
            "text/html": [
              "<style>#sk-container-id-1 {color: black;background-color: white;}#sk-container-id-1 pre{padding: 0;}#sk-container-id-1 div.sk-toggleable {background-color: white;}#sk-container-id-1 label.sk-toggleable__label {cursor: pointer;display: block;width: 100%;margin-bottom: 0;padding: 0.3em;box-sizing: border-box;text-align: center;}#sk-container-id-1 label.sk-toggleable__label-arrow:before {content: \"▸\";float: left;margin-right: 0.25em;color: #696969;}#sk-container-id-1 label.sk-toggleable__label-arrow:hover:before {color: black;}#sk-container-id-1 div.sk-estimator:hover label.sk-toggleable__label-arrow:before {color: black;}#sk-container-id-1 div.sk-toggleable__content {max-height: 0;max-width: 0;overflow: hidden;text-align: left;background-color: #f0f8ff;}#sk-container-id-1 div.sk-toggleable__content pre {margin: 0.2em;color: black;border-radius: 0.25em;background-color: #f0f8ff;}#sk-container-id-1 input.sk-toggleable__control:checked~div.sk-toggleable__content {max-height: 200px;max-width: 100%;overflow: auto;}#sk-container-id-1 input.sk-toggleable__control:checked~label.sk-toggleable__label-arrow:before {content: \"▾\";}#sk-container-id-1 div.sk-estimator input.sk-toggleable__control:checked~label.sk-toggleable__label {background-color: #d4ebff;}#sk-container-id-1 div.sk-label input.sk-toggleable__control:checked~label.sk-toggleable__label {background-color: #d4ebff;}#sk-container-id-1 input.sk-hidden--visually {border: 0;clip: rect(1px 1px 1px 1px);clip: rect(1px, 1px, 1px, 1px);height: 1px;margin: -1px;overflow: hidden;padding: 0;position: absolute;width: 1px;}#sk-container-id-1 div.sk-estimator {font-family: monospace;background-color: #f0f8ff;border: 1px dotted black;border-radius: 0.25em;box-sizing: border-box;margin-bottom: 0.5em;}#sk-container-id-1 div.sk-estimator:hover {background-color: #d4ebff;}#sk-container-id-1 div.sk-parallel-item::after {content: \"\";width: 100%;border-bottom: 1px solid gray;flex-grow: 1;}#sk-container-id-1 div.sk-label:hover label.sk-toggleable__label {background-color: #d4ebff;}#sk-container-id-1 div.sk-serial::before {content: \"\";position: absolute;border-left: 1px solid gray;box-sizing: border-box;top: 0;bottom: 0;left: 50%;z-index: 0;}#sk-container-id-1 div.sk-serial {display: flex;flex-direction: column;align-items: center;background-color: white;padding-right: 0.2em;padding-left: 0.2em;position: relative;}#sk-container-id-1 div.sk-item {position: relative;z-index: 1;}#sk-container-id-1 div.sk-parallel {display: flex;align-items: stretch;justify-content: center;background-color: white;position: relative;}#sk-container-id-1 div.sk-item::before, #sk-container-id-1 div.sk-parallel-item::before {content: \"\";position: absolute;border-left: 1px solid gray;box-sizing: border-box;top: 0;bottom: 0;left: 50%;z-index: -1;}#sk-container-id-1 div.sk-parallel-item {display: flex;flex-direction: column;z-index: 1;position: relative;background-color: white;}#sk-container-id-1 div.sk-parallel-item:first-child::after {align-self: flex-end;width: 50%;}#sk-container-id-1 div.sk-parallel-item:last-child::after {align-self: flex-start;width: 50%;}#sk-container-id-1 div.sk-parallel-item:only-child::after {width: 0;}#sk-container-id-1 div.sk-dashed-wrapped {border: 1px dashed gray;margin: 0 0.4em 0.5em 0.4em;box-sizing: border-box;padding-bottom: 0.4em;background-color: white;}#sk-container-id-1 div.sk-label label {font-family: monospace;font-weight: bold;display: inline-block;line-height: 1.2em;}#sk-container-id-1 div.sk-label-container {text-align: center;}#sk-container-id-1 div.sk-container {/* jupyter's `normalize.less` sets `[hidden] { display: none; }` but bootstrap.min.css set `[hidden] { display: none !important; }` so we also need the `!important` here to be able to override the default hidden behavior on the sphinx rendered scikit-learn.org. See: https://github.com/scikit-learn/scikit-learn/issues/21755 */display: inline-block !important;position: relative;}#sk-container-id-1 div.sk-text-repr-fallback {display: none;}</style><div id=\"sk-container-id-1\" class=\"sk-top-container\"><div class=\"sk-text-repr-fallback\"><pre>LinearRegression()</pre><b>In a Jupyter environment, please rerun this cell to show the HTML representation or trust the notebook. <br />On GitHub, the HTML representation is unable to render, please try loading this page with nbviewer.org.</b></div><div class=\"sk-container\" hidden><div class=\"sk-item\"><div class=\"sk-estimator sk-toggleable\"><input class=\"sk-toggleable__control sk-hidden--visually\" id=\"sk-estimator-id-1\" type=\"checkbox\" checked><label for=\"sk-estimator-id-1\" class=\"sk-toggleable__label sk-toggleable__label-arrow\">LinearRegression</label><div class=\"sk-toggleable__content\"><pre>LinearRegression()</pre></div></div></div></div></div>"
            ],
            "text/plain": [
              "LinearRegression()"
            ]
          },
          "execution_count": 28,
          "metadata": {},
          "output_type": "execute_result"
        }
      ],
      "source": [
        "#Initialize the Linear Regression model\n",
        "\n",
        "from sklearn.linear_model import LinearRegression\n",
        "regressor = LinearRegression()\n",
        "\n",
        "#Fit the model on the training data\n",
        "regressor.fit(X_train, y_train)"
      ]
    },
    {
      "cell_type": "markdown",
      "id": "bb135a37-abe7-4ae6-9856-6a6da30b54fd",
      "metadata": {
        "id": "bb135a37-abe7-4ae6-9856-6a6da30b54fd"
      },
      "source": [
        "# predict on test dataset"
      ]
    },
    {
      "cell_type": "code",
      "execution_count": null,
      "id": "df53538c-ffdb-438a-bfad-75655302dde6",
      "metadata": {
        "id": "df53538c-ffdb-438a-bfad-75655302dde6"
      },
      "outputs": [],
      "source": [
        "#Make predictions on the testing data\n",
        "y_pred = regressor.predict(X_test)"
      ]
    },
    {
      "cell_type": "code",
      "execution_count": null,
      "id": "e65675ae-d585-435c-b509-533737cfe957",
      "metadata": {
        "id": "e65675ae-d585-435c-b509-533737cfe957",
        "outputId": "042de2a6-52b3-425b-a873-7cf62682930c"
      },
      "outputs": [
        {
          "data": {
            "text/plain": [
              "array([17.05366541, 33.69422878, 74.80620886, 26.8422321 , 60.12335883,\n",
              "       39.56736879, 20.96909209, 78.72163554])"
            ]
          },
          "execution_count": 33,
          "metadata": {},
          "output_type": "execute_result"
        }
      ],
      "source": [
        "y_pred"
      ]
    },
    {
      "cell_type": "markdown",
      "id": "c2ca76fc-c676-447a-a5e5-df3c162a6171",
      "metadata": {
        "id": "c2ca76fc-c676-447a-a5e5-df3c162a6171"
      },
      "source": [
        "# actual vs model prediction"
      ]
    },
    {
      "cell_type": "code",
      "execution_count": null,
      "id": "5608c2c2-7084-4295-9efe-dc3cdf788799",
      "metadata": {
        "id": "5608c2c2-7084-4295-9efe-dc3cdf788799",
        "outputId": "0692caf1-2d3a-4c3d-c72b-08403b9324d0"
      },
      "outputs": [
        {
          "data": {
            "text/html": [
              "<div>\n",
              "<style scoped>\n",
              "    .dataframe tbody tr th:only-of-type {\n",
              "        vertical-align: middle;\n",
              "    }\n",
              "\n",
              "    .dataframe tbody tr th {\n",
              "        vertical-align: top;\n",
              "    }\n",
              "\n",
              "    .dataframe thead th {\n",
              "        text-align: right;\n",
              "    }\n",
              "</style>\n",
              "<table border=\"1\" class=\"dataframe\">\n",
              "  <thead>\n",
              "    <tr style=\"text-align: right;\">\n",
              "      <th></th>\n",
              "      <th>Actual</th>\n",
              "      <th>Predicted</th>\n",
              "    </tr>\n",
              "  </thead>\n",
              "  <tbody>\n",
              "    <tr>\n",
              "      <th>0</th>\n",
              "      <td>20</td>\n",
              "      <td>17.053665</td>\n",
              "    </tr>\n",
              "    <tr>\n",
              "      <th>1</th>\n",
              "      <td>27</td>\n",
              "      <td>33.694229</td>\n",
              "    </tr>\n",
              "    <tr>\n",
              "      <th>2</th>\n",
              "      <td>69</td>\n",
              "      <td>74.806209</td>\n",
              "    </tr>\n",
              "    <tr>\n",
              "      <th>3</th>\n",
              "      <td>30</td>\n",
              "      <td>26.842232</td>\n",
              "    </tr>\n",
              "    <tr>\n",
              "      <th>4</th>\n",
              "      <td>62</td>\n",
              "      <td>60.123359</td>\n",
              "    </tr>\n",
              "    <tr>\n",
              "      <th>5</th>\n",
              "      <td>35</td>\n",
              "      <td>39.567369</td>\n",
              "    </tr>\n",
              "    <tr>\n",
              "      <th>6</th>\n",
              "      <td>24</td>\n",
              "      <td>20.969092</td>\n",
              "    </tr>\n",
              "    <tr>\n",
              "      <th>7</th>\n",
              "      <td>86</td>\n",
              "      <td>78.721636</td>\n",
              "    </tr>\n",
              "  </tbody>\n",
              "</table>\n",
              "</div>"
            ],
            "text/plain": [
              "   Actual  Predicted\n",
              "0      20  17.053665\n",
              "1      27  33.694229\n",
              "2      69  74.806209\n",
              "3      30  26.842232\n",
              "4      62  60.123359\n",
              "5      35  39.567369\n",
              "6      24  20.969092\n",
              "7      86  78.721636"
            ]
          },
          "execution_count": 34,
          "metadata": {},
          "output_type": "execute_result"
        }
      ],
      "source": [
        "# Comparing Actual vs Predicted\n",
        "df1 = pd.DataFrame({'Actual': y_test, 'Predicted': y_pred})\n",
        "df1"
      ]
    },
    {
      "cell_type": "markdown",
      "id": "fe75c4db-0c54-4671-8fc6-00a7628f6e24",
      "metadata": {
        "id": "fe75c4db-0c54-4671-8fc6-00a7628f6e24"
      },
      "source": [
        "# visualization of linear regression model on test dataset"
      ]
    },
    {
      "cell_type": "code",
      "execution_count": null,
      "id": "c793b691-0836-4102-955d-26af73799017",
      "metadata": {
        "id": "c793b691-0836-4102-955d-26af73799017",
        "outputId": "c8cb14ef-e648-43e8-e992-01a818802095"
      },
      "outputs": [
        {
          "data": {
            "image/png": "[encoded data removed]",
            "text/plain": [
              "<Figure size 640x480 with 1 Axes>"
            ]
          },
          "metadata": {},
          "output_type": "display_data"
        }
      ],
      "source": [
        "#plotting the regression line\n",
        "\n",
        "plt.scatter(X_test, y_test, color = 'red')\n",
        "plt.plot(X_train, regressor.predict(X_train), color = 'blue')\n",
        "plt.title('(Testing set)')\n",
        "plt.xlabel('Hours of studied')\n",
        "plt.ylabel('Percentage Scored')\n",
        "plt.show()"
      ]
    },
    {
      "cell_type": "markdown",
      "id": "2288e4ea-1eb7-453a-b6b8-7de00b9d5caf",
      "metadata": {
        "id": "2288e4ea-1eb7-453a-b6b8-7de00b9d5caf"
      },
      "source": [
        "# score prediction of our model if a student studies 9.25hrs/day"
      ]
    },
    {
      "cell_type": "code",
      "execution_count": null,
      "id": "b93d5f52-859b-446f-b75f-a762e316bd23",
      "metadata": {
        "id": "b93d5f52-859b-446f-b75f-a762e316bd23",
        "outputId": "00f7bd09-e32f-4e60-f22e-bc0f8db2b495"
      },
      "outputs": [
        {
          "name": "stdout",
          "output_type": "stream",
          "text": [
            "No of Hours = [[9.25]]\n",
            "Predicted Score = 92.91505723477056\n"
          ]
        }
      ],
      "source": [
        "Hours = np.array([[9.25]])\n",
        "predict=regressor.predict(Hours)\n",
        "print(\"No of Hours = {}\".format(Hours))\n",
        "print(\"Predicted Score = {}\".format(predict[0]))"
      ]
    },
    {
      "cell_type": "markdown",
      "id": "e41040ab-5b83-4f12-91d1-2baf9e009f90",
      "metadata": {
        "id": "e41040ab-5b83-4f12-91d1-2baf9e009f90"
      },
      "source": [
        "# model accuracy"
      ]
    },
    {
      "cell_type": "code",
      "execution_count": null,
      "id": "7e190471-0dbd-4258-986e-1822620955c1",
      "metadata": {
        "id": "7e190471-0dbd-4258-986e-1822620955c1",
        "outputId": "077fd872-aa80-4f91-a915-47ad3b6ea7d7"
      },
      "outputs": [
        {
          "name": "stdout",
          "output_type": "stream",
          "text": [
            "Train :  94.84997422695115\n",
            "Test :  95.68211104435257\n"
          ]
        }
      ],
      "source": [
        "print(\"Train : \",regressor.score(X_train,y_train)*100)\n",
        "print(\"Test : \",regressor.score(X_test,y_test)*100)"
      ]
    },
    {
      "cell_type": "markdown",
      "id": "995624ad-8e9e-42dc-a6a7-204866ec4ea8",
      "metadata": {
        "id": "995624ad-8e9e-42dc-a6a7-204866ec4ea8"
      },
      "source": [
        "# MAE, RSE, MSE of model"
      ]
    },
    {
      "cell_type": "code",
      "execution_count": null,
      "id": "b63c4df2-1006-4c48-a348-8d20f519a5b5",
      "metadata": {
        "id": "b63c4df2-1006-4c48-a348-8d20f519a5b5",
        "outputId": "1bb6651a-6cc4-41a2-acdc-511e51aa935d"
      },
      "outputs": [
        {
          "name": "stdout",
          "output_type": "stream",
          "text": [
            "Mean absolute error: 4.419727808027652\n",
            "r^2 score error: 0.9568211104435257\n",
            "Mean squared error:  22.96509721270043\n"
          ]
        }
      ],
      "source": [
        "from sklearn import metrics\n",
        "from sklearn.metrics import r2_score\n",
        "from sklearn.metrics import mean_squared_error\n",
        "print('Mean absolute error:', metrics.mean_absolute_error(y_test, regressor.predict(X_test)))\n",
        "print('r^2 score error:',r2_score(y_test, regressor.predict(X_test)))\n",
        "print('Mean squared error: ',mean_squared_error(y_test, regressor.predict(X_test)))"
      ]
    },
    {
      "cell_type": "markdown",
      "id": "46133c33-4cd8-40e4-9c2b-1db6b1762793",
      "metadata": {
        "id": "46133c33-4cd8-40e4-9c2b-1db6b1762793"
      },
      "source": [
        "**Mean Absolute Error: 4.419727808027652  of our model  is a descent score for predicting the result**"
      ]
    },
    {
      "cell_type": "code",
      "execution_count": null,
      "id": "5fbfd83f-f826-4617-b700-29733c17b6a7",
      "metadata": {
        "id": "5fbfd83f-f826-4617-b700-29733c17b6a7"
      },
      "outputs": [],
      "source": []
    }
  ],
  "metadata": {
    "kernelspec": {
      "display_name": "Python 3 (ipykernel)",
      "language": "python",
      "name": "python3"
    },
    "language_info": {
      "codemirror_mode": {
        "name": "ipython",
        "version": 3
      },
      "file_extension": ".py",
      "mimetype": "text/x-python",
      "name": "python",
      "nbconvert_exporter": "python",
      "pygments_lexer": "ipython3",
      "version": "3.11.7"
    },
    "colab": {
      "provenance": [],
      "include_colab_link": true
    }
  },
  "nbformat": 4,
  "nbformat_minor": 5
}